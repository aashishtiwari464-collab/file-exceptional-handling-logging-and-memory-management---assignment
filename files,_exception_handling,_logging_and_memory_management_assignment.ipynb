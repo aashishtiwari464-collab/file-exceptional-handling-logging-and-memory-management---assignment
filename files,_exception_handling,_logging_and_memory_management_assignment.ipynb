{
  "nbformat": 4,
  "nbformat_minor": 0,
  "metadata": {
    "colab": {
      "provenance": []
    },
    "kernelspec": {
      "name": "python3",
      "display_name": "Python 3"
    },
    "language_info": {
      "name": "python"
    }
  },
  "cells": [
    {
      "cell_type": "markdown",
      "source": [
        "## **THEORITICAL QUESTION**\n",
        "---"
      ],
      "metadata": {
        "id": "HQ3FU1C80tC9"
      }
    },
    {
      "cell_type": "markdown",
      "source": [
        "# Q 1. What is the difference between interpreted and compiled languages?\n",
        "\n",
        "-  Compiled languages (e.g., C, C++) are translated into machine code (executable by the CPU) before execution by a compiler. This results in faster execution.\n",
        "\n",
        "-  Interpreted languages (e.g., Python, JavaScript) are translated line-by-line into machine code at runtime by an interpreter. This allows for greater flexibility and portability but is generally slower than compiled code."
      ],
      "metadata": {
        "id": "N1fsc4eZsiua"
      }
    },
    {
      "cell_type": "markdown",
      "source": [
        "# Q 2. What is exception handling in Python?\n",
        "\n",
        "- It's a mechanism to manage and respond to runtime errors (exceptions) gracefully, preventing a program from crashing. It uses the try, except, else, and finally blocks to isolate code that might fail and define a recovery path"
      ],
      "metadata": {
        "id": "SZa0RpbxtpM6"
      }
    },
    {
      "cell_type": "markdown",
      "source": [
        "# Q 3. What is the purpose of the finally block in exception handling?\n",
        "\n",
        "-  The code within the finally block always executes, regardless of whether an exception was raised or handled in the try or except blocks. It's primarily used for cleanup actions, such as closing files or releasing external resources."
      ],
      "metadata": {
        "id": "hEBmiLAUtxRf"
      }
    },
    {
      "cell_type": "markdown",
      "source": [
        "# Q 4. What is logging in Python?\n",
        "\n",
        "- It's a process for recording events that occur while software is running, providing a permanent, structured record. Python's built-in logging module is a powerful and flexible framework for this."
      ],
      "metadata": {
        "id": "bOW3Uw2tuMpK"
      }
    },
    {
      "cell_type": "markdown",
      "source": [
        "# Q 5. What is the significance of the __del__ method in Python?\n",
        "\n",
        "-  `__del__` is a destructor, but it is not a reliable way to manage resources. It is called non-deterministically by the garbage collector, which may be long after the object is no longer referenced, or potentially never if the program exits or a reference cycle exists. Relying on `__del__` for critical cleanup (like closing files or network sockets) is a design flaw that will lead to resource leaks. The only robust way to manage resource cleanup is to use a `with` statement or a `try...finally` block."
      ],
      "metadata": {
        "id": "2ukFPj2TubhO"
      }
    },
    {
      "cell_type": "markdown",
      "source": [
        "#Q 6. What is the difference between import and from ... import in Python?\n",
        "\n",
        "-  `import module_name` (e.g., `import math`) brings the module into the current namespace. All functions require a prefix: `math.sqrt()`. This is the preferred method as it avoids namespace pollution, makes code explicit and readable (you know exactly where sqrt came from), and prevents name collisions.\n",
        "\n",
        "`from module_name import function_name` (e.g., `from math import sqrt`) pulls the specific function `sqrt` directly into the current namespace. It is used without a prefix: `sqrt()`.\n",
        "\n",
        "The Critical Pitfall: This approach should be used sparingly. It pollutes the global namespace and creates a high risk of name collisions. If you `import sqrt` from `math` and later import a different `sqrt` from `numpy`, the second one silently overwrites the first, leading to subtle, hard-to-debug-bugs. Using from module import * is considered a critical anti-pattern for this reason."
      ],
      "metadata": {
        "id": "QJ8gA_ceuyJU"
      }
    },
    {
      "cell_type": "markdown",
      "source": [
        "# Q 7. How can you handle multiple exceptions in Python?\n",
        "\n",
        "-  You can use multiple except blocks following a single try block, one for each specific exception type (e.g., except FileNotFoundError:, except ValueError:).\n",
        "\n",
        "-  Alternatively, you can handle them with a single except block by grouping the exception types into a tuple (e.g., except (FileNotFoundError, ValueError) as e:)."
      ],
      "metadata": {
        "id": "DE8eQO5zvMun"
      }
    },
    {
      "cell_type": "markdown",
      "source": [
        "# Q 8. What is the purpose of the with statement when handling files in Python?\n",
        "\n",
        "The with statement provides a deterministic and exception-safe way to manage resources. It relies on the context manager protocol, which requires an object to implement two specific methods:\n",
        "\n",
        "-  `__enter__()`: This method is called when the with block is entered. It sets up the resource (like opening the file) and can optionally return an object (which is what f becomes in with open(...) as f).\n",
        "\n",
        "-  `__exit__(type, value, traceback)`: This method is guaranteed to be called when the block is exited, for any reason—whether it finishes successfully, encounters an Exception, or is interrupted. This makes it the perfect place for cleanup (like f.close()), as it ensures resources are released even if your code crashes."
      ],
      "metadata": {
        "id": "5-i7zJN_wdE_"
      }
    },
    {
      "cell_type": "markdown",
      "source": [
        "# Q 9. What is the difference between multithreading and multiprocessing?\n",
        "- Multithreading: Runs concurrent threads in a single process. Due to the Global Interpreter Lock (GIL) in CPython, only one thread can execute Python bytecode at a time. This makes it unsuitable for CPU-bound Python code. However, it is ideal for I/O-bound tasks (network requests, disk reads) because the GIL is released while a thread is \"waiting\" for I/O, allowing other threads to run.\n",
        "\n",
        "-  Multiprocessing: Bypasses the GIL by spawning separate processes, each with its own Python interpreter and memory. This is the only way to achieve true parallel execution for CPU-bound Python code on multi-core machines.\n",
        "\n",
        "-  The Blind Spot: It's incorrect to say threading is never useful for CPU-bound tasks. The GIL is only for Python bytecode. Threads that call into C-extensions (like most operations in NumPy, Pandas, or cryptography libraries) can and do release the GIL, allowing for significant CPU-bound parallelism even in a multithreaded context."
      ],
      "metadata": {
        "id": "BSTBBJBUwksF"
      }
    },
    {
      "cell_type": "markdown",
      "source": [
        "# Q 10. What are the advantages of using logging in a program?\n",
        "\n",
        "-  Debugging: Helps track the flow and state of the program, especially in complex systems.\n",
        "\n",
        "-  Auditing/Monitoring: Provides a record of system events, including potential security issues or resource utilization.\n",
        "\n",
        "\n",
        "-  Separation of Concerns: Separates informational output (logs) from user-facing output (prints).\n",
        "\n",
        "\n",
        "- Configurability: Allows developers to easily control the level of detail (e.g., INFO, DEBUG, ERROR) and the destination (console, file, network) of messages."
      ],
      "metadata": {
        "id": "3wyVSvzExGSx"
      }
    },
    {
      "cell_type": "markdown",
      "source": [
        "# Q 11. What is memory management in Python?\n",
        "\n",
        "- It is the process of allocating memory for objects when they are created and deallocating or reclaiming that memory when the objects are no longer needed (i.e., are garbage). Python's memory management is largely automatic"
      ],
      "metadata": {
        "id": "HuU74ip7xTaz"
      }
    },
    {
      "cell_type": "markdown",
      "source": [
        "# Q 12.What are the basic steps involved in exception handling in Python?\n",
        "\n",
        "-  Try: Execute the code block that might raise an exception.\n",
        "\n",
        "-  Except: If an exception occurs in the try block, the flow jumps to the relevant except block to handle it.\n",
        "\n",
        "-  Else (Optional): Execute if the try block completes without raising an exception.\n",
        "\n",
        "\n",
        "- Finally (Optional): Execute cleanup code, whether an exception occurred or not"
      ],
      "metadata": {
        "id": "qozBDf9Ixb44"
      }
    },
    {
      "cell_type": "markdown",
      "source": [
        "# Q 13. Why is memory management important in Python?\n",
        "\n",
        "- It prevents memory leaks (where unused memory is not returned to the system).\n",
        "\n",
        "-  It ensures the program runs efficiently by dynamically allocating and reclaiming resources.\n",
        "\n",
        "-  Proper management is crucial for the overall stability and performance of long-running applications"
      ],
      "metadata": {
        "id": "9if3TxQ9xnVs"
      }
    },
    {
      "cell_type": "markdown",
      "source": [
        "# Q 14. What is the role of try and except in exception handling?\n",
        "\n",
        "-  The try block encloses the statements that could potentially cause an error.\n",
        "\n",
        "-  The except block is executed when a specific error (or any error, if unspecified) occurs within the corresponding try block, allowing the program to handle the error and continue execution."
      ],
      "metadata": {
        "id": "2yeaJacux3GT"
      }
    },
    {
      "cell_type": "markdown",
      "source": [
        "# Q 15. How does Python's garbage collection system work?\n",
        "\n",
        "-  Python primarily uses reference counting to immediately reclaim memory when an object's reference count drops to zero.\n",
        "\n",
        "-  For uncollectable objects like reference cycles (where two or more objects refer to each other), Python uses a generational garbage collector to periodically detect and clean up these cycles."
      ],
      "metadata": {
        "id": "t1Q7Jt5cx3bN"
      }
    },
    {
      "cell_type": "markdown",
      "source": [
        "# Q 16. What is the purpose of the else block in exception handling?\n",
        "\n",
        "- The else block executes only if the code in the try block executes completely without raising an exception. It's useful for placing code that depends on the try block succeeding but should not be protected by the exception handling itself."
      ],
      "metadata": {
        "id": "FjwPgVxVx3g_"
      }
    },
    {
      "cell_type": "markdown",
      "source": [
        "# Q 17. What are the common logging levels in Python?\n",
        "\n",
        "**In ascending order of severity, they are:**\n",
        "\n",
        "-  DEBUG: Detailed information, typically only of interest to a developer when diagnosing a problem.\n",
        "\n",
        "- INFO: Confirmation that things are working as expected.\n",
        "\n",
        "- WARNING: An indication that something unexpected happened, or a potential problem in the near future (software is still working as expected).\n",
        "\n",
        "- ERROR: Due to a more serious problem, the software has not been able to perform some function.\n",
        "\n",
        "\n",
        "- CRITICAL: A serious error, indicating that the program itself may be unable to continue running."
      ],
      "metadata": {
        "id": "aexxnZWQx3l7"
      }
    },
    {
      "cell_type": "markdown",
      "source": [
        "# Q 18. What is the difference between os.fork() and multiprocessing in Python?\n",
        "\n",
        "-  os.fork() is a Unix-specific (and related operating systems) system call that creates a new process (the child) that is an almost exact copy of the calling process (the parent). It is lower-level and platform-dependent.\n",
        "\n",
        "-  multiprocessing is a high-level, platform-independent package that allows the spawning of processes using an API similar to the threading module. It handles the complexities of process creation, communication, and management across different operating systems."
      ],
      "metadata": {
        "id": "7xzUFgECx3q-"
      }
    },
    {
      "cell_type": "markdown",
      "source": [
        "# Q 19 . What is the importance of closing a file in Python?\n",
        "\n",
        "-  Closing a file releases the system resources (file descriptors) that the file object was holding.\n",
        "\n",
        "-  It ensures that any buffered data is written (flushed) to the disk, preventing data loss or corruption.\n",
        "\n",
        "-  Failure to close files can lead to resource exhaustion, especially in systems with many open files."
      ],
      "metadata": {
        "id": "hDAQGeL6x3vd"
      }
    },
    {
      "cell_type": "markdown",
      "source": [
        "#Q 20. What is the difference between file.read() and file.readline() in Python?\n",
        "\n",
        "-  file.read(size): Reads the entire file into a single string if size is omitted. This is dangerous as it will consume all available RAM if the file is large, crashing your application.\n",
        "\n",
        "-  file.readline(): Reads a single line from the file, up to and including the newline character (\\n). This is memory-efficient for line-by-line processing.\n",
        "\n",
        "-  file.readlines(): Reads all remaining lines from the file into a list of strings. This has the exact same memory-hogging problem as read(). It should almost never be used; iterating directly over the file object (e.g., for line in f:) is the preferred, memory-safe alternative."
      ],
      "metadata": {
        "id": "S1yxU39Ix3zW"
      }
    },
    {
      "cell_type": "markdown",
      "source": [
        "# Q 21. What is the logging module in Python used for?\n",
        "\n",
        "-  It provides a flexible framework for emitting log messages from Python programs. It is used to record events, status messages, and errors to various destinations (e.g., console, file, network) based on configured severity levels.\n"
      ],
      "metadata": {
        "id": "YtCx7a3Ey2cr"
      }
    },
    {
      "cell_type": "markdown",
      "source": [
        "# Q 22. What is the os module in Python used for in file handling?\n",
        "\n",
        "- The os module provides a way of interacting with the operating system, including file system operations that go beyond the basic open() and file object methods. Key uses include:\n",
        "\n",
        "- Checking if a file exists (os.path.exists()).\n",
        "\n",
        "- Getting file size (os.path.getsize()).\n",
        "\n",
        "- Renaming or deleting files (os.rename(), os.remove()).\n",
        "\n",
        "-  Manipulating paths (os.path.join())."
      ],
      "metadata": {
        "id": "ADwj9Kf6y2j-"
      }
    },
    {
      "cell_type": "markdown",
      "source": [
        "# Q 23. What are the challenges associated with memory management in Python?\n",
        "\n",
        "-  Reference Cycles: Objects that maintain references to each other, preventing their reference count from reaching zero. This requires the more complex generational garbage collector.\n",
        "\n",
        "\n",
        "-  High Memory Footprint: Python objects carry overhead due to storing type information and reference counts, often making Python use more memory than languages like C or C++ for the same data.\n",
        "\n",
        "-  Non-deterministic Deallocation: The timing of the generational garbage collector is not guaranteed, which can complicate resource cleanup based on the __del__ method."
      ],
      "metadata": {
        "id": "twobqPrZy2qy"
      }
    },
    {
      "cell_type": "markdown",
      "source": [
        "# Q 24. How do you raise an exception manually in Python?\n",
        "\n",
        "- You use the raise statement, typically followed by an exception object. Example: raise ValueError(\"Invalid input provided\")."
      ],
      "metadata": {
        "id": "P3nmbY_Hy2yN"
      }
    },
    {
      "cell_type": "markdown",
      "source": [
        "# Q 25. Why is it important to use multithreading in certain applications?\n",
        "\n",
        "-  Multithreading is crucial for I/O-bound applications (e.g., web servers, GUI programs, database clients) because:\n",
        "\n",
        "-  It allows the program to remain responsive while waiting for slow operations (like network I/O or disk reads) to complete.\n",
        "\n",
        "-  It enables a process to handle multiple tasks concurrently without the overhead of creating entirely new processes."
      ],
      "metadata": {
        "id": "YkPk7uUr1QlM"
      }
    },
    {
      "cell_type": "markdown",
      "source": [
        "---\n",
        "## || **PRACTICAL QUESTION** ||\n",
        "\n",
        "---\n",
        "\n"
      ],
      "metadata": {
        "id": "4ah4zLKZy2_M"
      }
    },
    {
      "cell_type": "markdown",
      "source": [
        "# Q 1. How can you open a file for writing in Python and write a string to it?"
      ],
      "metadata": {
        "id": "sBf7N1nAy3Fb"
      }
    },
    {
      "cell_type": "code",
      "source": [
        "try:\n",
        "    # 'w' mode opens for writing, creating or overwriting the file.\n",
        "    with open('output_file.txt', 'w') as f:\n",
        "        f.write(\"This line was written to the file.\\n\")\n",
        "        f.write(\"A second line follows.\\n\")\n",
        "    print(\"Successfully wrote to output_file.txt.\")\n",
        "except IOError as e:\n",
        "    print(f\"Error writing to file: {e}\")"
      ],
      "metadata": {
        "colab": {
          "base_uri": "https://localhost:8080/"
        },
        "id": "GmdsycdYy3L8",
        "outputId": "aee4239f-5502-4a01-ee0f-741091d2e1ff"
      },
      "execution_count": 46,
      "outputs": [
        {
          "output_type": "stream",
          "name": "stdout",
          "text": [
            "Successfully wrote to output_file.txt.\n"
          ]
        }
      ]
    },
    {
      "cell_type": "markdown",
      "source": [
        "#Q 2.  Write a Python program to read the contents of a file and print each line."
      ],
      "metadata": {
        "id": "8znxWk7Dy3SE"
      }
    },
    {
      "cell_type": "code",
      "source": [
        "file_name = 'input.txt'\n",
        "try:\n",
        "    with open(file_name, 'r') as f:\n",
        "        print(f\"--- Contents of {file_name} ---\")\n",
        "        for line in f:\n",
        "            # Use .strip() to remove the newline characters for clean output\n",
        "            print(line.strip())\n",
        "except FileNotFoundError:\n",
        "    print(f\"Error: The file '{file_name}' was not found.\")"
      ],
      "metadata": {
        "colab": {
          "base_uri": "https://localhost:8080/"
        },
        "id": "BssA9Lz2y3Yb",
        "outputId": "2520f878-a490-4d4e-9ce0-e8e3006a1430"
      },
      "execution_count": 47,
      "outputs": [
        {
          "output_type": "stream",
          "name": "stdout",
          "text": [
            "Error: The file 'input.txt' was not found.\n"
          ]
        }
      ]
    },
    {
      "cell_type": "markdown",
      "source": [
        "# Q 3. How would you handle a case where the file doesn't exist while trying to open it for reading?"
      ],
      "metadata": {
        "id": "8womM3lc4Bo6"
      }
    },
    {
      "cell_type": "code",
      "source": [
        "file_name = \"non_existent.data\"\n",
        "try:\n",
        "    with open(file_name, 'r') as f:\n",
        "        content = f.read()\n",
        "        # process content\n",
        "except FileNotFoundError:\n",
        "    print(f\"Handled Error: The file '{file_name}' does not exist and cannot be read.\")\n",
        "except Exception as e:\n",
        "    print(f\"An unexpected error occurred: {e}\")"
      ],
      "metadata": {
        "colab": {
          "base_uri": "https://localhost:8080/"
        },
        "id": "JR5Vvkmf4H12",
        "outputId": "8bcf7a8a-fcd6-4d4c-a9d4-4c5e61dd3b74"
      },
      "execution_count": 48,
      "outputs": [
        {
          "output_type": "stream",
          "name": "stdout",
          "text": [
            "Handled Error: The file 'non_existent.data' does not exist and cannot be read.\n"
          ]
        }
      ]
    },
    {
      "cell_type": "markdown",
      "source": [
        "# Q 4. Write a Python script that reads from one file and writes its content to another file."
      ],
      "metadata": {
        "id": "Z1_gwJKV4Jeo"
      }
    },
    {
      "cell_type": "code",
      "source": [
        "input_file = 'source.txt'\n",
        "output_file = 'destination.txt'\n",
        "buffer_size = 8192  # 8KB chunk size, a common default\n",
        "\n",
        "try:\n",
        "    with open(input_file, 'rb') as infile, open(output_file, 'wb') as outfile:\n",
        "        while True:\n",
        "            chunk = infile.read(buffer_size)\n",
        "            if not chunk:\n",
        "                break  # End of file\n",
        "            outfile.write(chunk)\n",
        "\n",
        "    print(f\"File successfully copied in chunks from {input_file} to {output_file}.\")\n",
        "\n",
        "except FileNotFoundError:\n",
        "    print(f\"Error: The source file '{input_file}' was not found.\")\n",
        "except Exception as e:\n",
        "    print(f\"An unexpected error occurred: {e}\")"
      ],
      "metadata": {
        "colab": {
          "base_uri": "https://localhost:8080/"
        },
        "id": "8663eXCX4H8k",
        "outputId": "723dc846-16fa-4443-fd0b-cf12f02091e3"
      },
      "execution_count": 80,
      "outputs": [
        {
          "output_type": "stream",
          "name": "stdout",
          "text": [
            "Error: The source file 'source.txt' was not found.\n"
          ]
        }
      ]
    },
    {
      "cell_type": "markdown",
      "source": [
        "# Q 5. How would you catch and handle division by zero error in Python?"
      ],
      "metadata": {
        "id": "Uo5eB9hI4KOO"
      }
    },
    {
      "cell_type": "code",
      "source": [
        "def safe_divide(a, b):\n",
        "    try:\n",
        "        result = a / b\n",
        "        return result\n",
        "    except ZeroDivisionError:\n",
        "        print(\"Handled Error: Cannot divide by zero. Returning None.\")\n",
        "        return None\n",
        "\n",
        "print(f\"Result (10/2): {safe_divide(10, 0)}\")"
      ],
      "metadata": {
        "colab": {
          "base_uri": "https://localhost:8080/"
        },
        "id": "mRX0ptC54ICG",
        "outputId": "06f5f33f-9553-4cce-cbf0-1da4ac415a7d"
      },
      "execution_count": 50,
      "outputs": [
        {
          "output_type": "stream",
          "name": "stdout",
          "text": [
            "Handled Error: Cannot divide by zero. Returning None.\n",
            "Result (10/2): None\n"
          ]
        }
      ]
    },
    {
      "cell_type": "markdown",
      "source": [
        "# Q 6. Write a Python program that logs an error message to a log file when a division by zero exception occurs."
      ],
      "metadata": {
        "id": "o0NGzMnW4K-I"
      }
    },
    {
      "cell_type": "code",
      "source": [
        "import logging\n",
        "\n",
        "logging.basicConfig(filename='math_errors.log', level=logging.ERROR,\n",
        "                    format='%(asctime)s - %(levelname)s - %(message)s')\n",
        "\n",
        "def divide_and_log(a, b):\n",
        "    try:\n",
        "        result = a / b\n",
        "        print(f\"Division result: {result}\")\n",
        "    except ZeroDivisionError:\n",
        "        logging.error(f\"Attempted division of {a} by zero.\")\n",
        "        print(\"Operation failed, check 'math_errors.log' for details.\")\n",
        "\n",
        "divide_and_log(7, 0)"
      ],
      "metadata": {
        "colab": {
          "base_uri": "https://localhost:8080/"
        },
        "id": "tXTm9nVi4IHF",
        "outputId": "3ec5f2f2-ba60-4eec-e430-9d7c3721b8b5"
      },
      "execution_count": 51,
      "outputs": [
        {
          "output_type": "stream",
          "name": "stderr",
          "text": [
            "ERROR:root:Attempted division of 7 by zero.\n"
          ]
        },
        {
          "output_type": "stream",
          "name": "stdout",
          "text": [
            "Operation failed, check 'math_errors.log' for details.\n"
          ]
        }
      ]
    },
    {
      "cell_type": "markdown",
      "source": [
        "# Q 7. How do you log information at different levels (INFO, ERROR, WARNING) in Python using the logging module?"
      ],
      "metadata": {
        "id": "mZbePiqb4Ls7"
      }
    },
    {
      "cell_type": "code",
      "source": [
        "import logging\n",
        "\n",
        "# Set the root level to INFO so all INFO, WARNING, and ERROR messages are processed\n",
        "logging.basicConfig(level=logging.INFO, format='%(levelname)s: %(message)s')\n",
        "\n",
        "logging.info(\"Application starting up.\")\n",
        "logging.warning(\"Configuration issue detected, using defaults.\")\n",
        "logging.error(\"Database connection failed.\")\n",
        "logging.debug(\"This debug message will not appear because the level is INFO.\")"
      ],
      "metadata": {
        "colab": {
          "base_uri": "https://localhost:8080/"
        },
        "id": "JPyDjXbj4IMG",
        "outputId": "2aaa35ab-936e-4f4e-acae-18835af5c7fc"
      },
      "execution_count": 52,
      "outputs": [
        {
          "output_type": "stream",
          "name": "stderr",
          "text": [
            "WARNING:root:Configuration issue detected, using defaults.\n",
            "ERROR:root:Database connection failed.\n"
          ]
        }
      ]
    },
    {
      "cell_type": "markdown",
      "source": [
        "# Q 8. Write a program to handle a file opening error using exception handling."
      ],
      "metadata": {
        "id": "rYOgduX54IQz"
      }
    },
    {
      "cell_type": "code",
      "source": [
        "file_path = \"protected_file.txt\"\n",
        "try:\n",
        "    with open(file_path, 'r') as f:\n",
        "        data = f.read()\n",
        "except FileNotFoundError:\n",
        "    print(f\"Error: File '{file_path}' not found.\")\n",
        "except PermissionError:\n",
        "    print(f\"Error: You do not have permission to access '{file_path}'.\")"
      ],
      "metadata": {
        "colab": {
          "base_uri": "https://localhost:8080/"
        },
        "id": "nz3GL3XC4IV2",
        "outputId": "f21d6c26-5490-4b37-f5d5-44e351401d47"
      },
      "execution_count": 53,
      "outputs": [
        {
          "output_type": "stream",
          "name": "stdout",
          "text": [
            "Error: File 'protected_file.txt' not found.\n"
          ]
        }
      ]
    },
    {
      "cell_type": "markdown",
      "source": [
        "# Q 9. How can you read a file line by line and store its content in a list in Python?"
      ],
      "metadata": {
        "id": "PZKBoL0k4Iag"
      }
    },
    {
      "cell_type": "code",
      "source": [
        "file_name = 'list_data.txt'\n",
        "lines_list = []\n",
        "try:\n",
        "    with open(file_name, 'r') as f:\n",
        "        for line in f:\n",
        "            lines_list.append(line.strip()) # .strip() removes newlines and whitespace\n",
        "    print(f\"File content stored in list: {lines_list}\")\n",
        "except FileNotFoundError:\n",
        "    print(f\"File '{file_name}' not found.\")"
      ],
      "metadata": {
        "colab": {
          "base_uri": "https://localhost:8080/"
        },
        "id": "rm4kt3GX4IfF",
        "outputId": "4aefa869-d495-4e66-948d-1250fb2a6c5c"
      },
      "execution_count": 54,
      "outputs": [
        {
          "output_type": "stream",
          "name": "stdout",
          "text": [
            "File 'list_data.txt' not found.\n"
          ]
        }
      ]
    },
    {
      "cell_type": "markdown",
      "source": [
        "# Q 10. How can you append data to an existing file in Python?"
      ],
      "metadata": {
        "id": "dCcgK-E34Ikf"
      }
    },
    {
      "cell_type": "code",
      "source": [
        "file_name = 'activity_log.txt'\n",
        "new_data = \"New entry logged at current time.\\n\"\n",
        "try:\n",
        "    # 'a' mode: opens for appending. Pointer is at the end of the file.\n",
        "    with open(file_name, 'a') as f:\n",
        "        f.write(new_data)\n",
        "    print(f\"Successfully appended data to {file_name}.\")\n",
        "except IOError as e:\n",
        "    print(f\"An error occurred while appending: {e}\")"
      ],
      "metadata": {
        "colab": {
          "base_uri": "https://localhost:8080/"
        },
        "id": "I0wdwJ3CA0B0",
        "outputId": "ae63ee9b-ceaa-4fb0-98af-4e0d0f46f4e5"
      },
      "execution_count": 55,
      "outputs": [
        {
          "output_type": "stream",
          "name": "stdout",
          "text": [
            "Successfully appended data to activity_log.txt.\n"
          ]
        }
      ]
    },
    {
      "cell_type": "markdown",
      "source": [
        "# Q 11. Write a Python program that uses a try-except block to handle an error when attempting to access a dictionary key that doesn't exist"
      ],
      "metadata": {
        "id": "OimYLwVJA0IR"
      }
    },
    {
      "cell_type": "code",
      "source": [
        "user_config = {\"user\": \"Alice\", \"status\": \"active\"}\n",
        "key_to_check = \"role\"\n",
        "\n",
        "try:\n",
        "    role = user_config[key_to_check]\n",
        "    print(f\"The role is: {role}\")\n",
        "except KeyError:\n",
        "    print(f\"Handled Error: The key '{key_to_check}' was not found in the dictionary.\")\n",
        "    role = \"guest\"\n",
        "    print(f\"Defaulting to role: {role}\")"
      ],
      "metadata": {
        "colab": {
          "base_uri": "https://localhost:8080/"
        },
        "id": "Z_wzhL1bA0Rw",
        "outputId": "e141c4a9-129e-422c-ae52-bfb75d4e3a42"
      },
      "execution_count": 56,
      "outputs": [
        {
          "output_type": "stream",
          "name": "stdout",
          "text": [
            "Handled Error: The key 'role' was not found in the dictionary.\n",
            "Defaulting to role: guest\n"
          ]
        }
      ]
    },
    {
      "cell_type": "markdown",
      "source": [
        "# Q 12. Write a program that demonstrates using multiple except blocks to handle different types of exceptions."
      ],
      "metadata": {
        "id": "ElXopv67A0Wa"
      }
    },
    {
      "cell_type": "code",
      "source": [
        "def multi_except_demo(a, b):\n",
        "    try:\n",
        "        data = [1, 2]\n",
        "        # Potential IndexError\n",
        "        x = data[b]\n",
        "        # Potential ZeroDivisionError\n",
        "        result = a / x\n",
        "        print(f\"Result: {result}\")\n",
        "    except IndexError:\n",
        "        print(\"Error: List index out of bounds.\")\n",
        "    except ZeroDivisionError:\n",
        "        print(\"Error: Attempted division by zero.\")\n",
        "    except Exception as e:\n",
        "        print(f\"An unexpected error occurred: {e}\")\n",
        "\n",
        "multi_except_demo(10, 0) # Index 0 works\n",
        "multi_except_demo(10, 5) # Triggers IndexError"
      ],
      "metadata": {
        "colab": {
          "base_uri": "https://localhost:8080/"
        },
        "id": "XKIY6s4jA0a-",
        "outputId": "299978e4-1970-4c50-ab26-7db1edf0437d"
      },
      "execution_count": 57,
      "outputs": [
        {
          "output_type": "stream",
          "name": "stdout",
          "text": [
            "Result: 10.0\n",
            "Error: List index out of bounds.\n"
          ]
        }
      ]
    },
    {
      "cell_type": "markdown",
      "source": [
        "# Q 13. How would you check if a file exists before attempting to read it in Python?"
      ],
      "metadata": {
        "id": "6WAvNRqmA0fS"
      }
    },
    {
      "cell_type": "code",
      "source": [
        "import os\n",
        "\n",
        "file_to_verify = 'check_this.csv'\n",
        "\n",
        "try:\n",
        "    # The \"check\" is implicit in the \"try\"\n",
        "    with open(file_to_verify, 'r') as f:\n",
        "        print(f\"Success: File '{file_to_verify}' exists and was opened.\")\n",
        "        # Proceed with file operations...\n",
        "        # content = f.read()\n",
        "except FileNotFoundError:\n",
        "    print(f\"Error: File '{file_to_verify}' does not exist. Aborting read.\")\n",
        "except PermissionError:\n",
        "    print(f\"Error: No permission to read '{file_to_verify}'.\")"
      ],
      "metadata": {
        "colab": {
          "base_uri": "https://localhost:8080/"
        },
        "id": "24zLzWgbA0jy",
        "outputId": "1613be88-9eb9-4347-8762-d83518b93101"
      },
      "execution_count": 82,
      "outputs": [
        {
          "output_type": "stream",
          "name": "stdout",
          "text": [
            "Error: File 'check_this.csv' does not exist. Aborting read.\n"
          ]
        }
      ]
    },
    {
      "cell_type": "markdown",
      "source": [
        "# Q 14. Write a program that uses the logging module to log both informational and error messages"
      ],
      "metadata": {
        "id": "RpdVwIFJA0o7"
      }
    },
    {
      "cell_type": "code",
      "source": [
        "import logging\n",
        "\n",
        "logging.basicConfig(level=logging.INFO, # Set threshold to INFO\n",
        "                    format='%(asctime)s - %(levelname)s - %(message)s',\n",
        "                    handlers=[\n",
        "                        logging.FileHandler(\"app_log.txt\"),\n",
        "                        logging.StreamHandler()\n",
        "                    ])\n",
        "\n",
        "logging.info(\"Application process started.\")\n",
        "\n",
        "try:\n",
        "    1 / 0\n",
        "except ZeroDivisionError:\n",
        "    logging.error(\"Fatal exception: Division by zero occurred.\", exc_info=True)\n",
        "\n",
        "logging.info(\"Application process finished.\")"
      ],
      "metadata": {
        "colab": {
          "base_uri": "https://localhost:8080/"
        },
        "id": "yX33YJjEA0t6",
        "outputId": "d0dcf52c-be3b-475c-c52e-898df1605452"
      },
      "execution_count": 59,
      "outputs": [
        {
          "output_type": "stream",
          "name": "stderr",
          "text": [
            "ERROR:root:Fatal exception: Division by zero occurred.\n",
            "Traceback (most recent call last):\n",
            "  File \"/tmp/ipython-input-2496501228.py\", line 13, in <cell line: 0>\n",
            "    1 / 0\n",
            "    ~~^~~\n",
            "ZeroDivisionError: division by zero\n"
          ]
        }
      ]
    },
    {
      "cell_type": "markdown",
      "source": [
        "# Q 15. Write a Python program that prints the content of a file and handles the case when the file is empty"
      ],
      "metadata": {
        "id": "q3SgGrBlFgeE"
      }
    },
    {
      "cell_type": "code",
      "source": [
        "import os\n",
        "\n",
        "file_name = \"test_data.txt\"\n",
        "\n",
        "try:\n",
        "    with open(file_name, 'r') as f:\n",
        "        content = f.read()\n",
        "\n",
        "        # This check is safe *inside* the 'with' block\n",
        "        if not content:\n",
        "            print(f\"Warning: File '{file_name}' exists but is empty.\")\n",
        "        else:\n",
        "            print(f\"--- Content ---\\n{content}\")\n",
        "\n",
        "except FileNotFoundError:\n",
        "    print(f\"Error: File '{file_name}' not found.\")\n",
        "except OSError as e:\n",
        "    print(f\"An OS error occurred: {e}\")"
      ],
      "metadata": {
        "colab": {
          "base_uri": "https://localhost:8080/"
        },
        "id": "vbfkg1jIF89S",
        "outputId": "c00a8061-2b47-4ced-cf41-4444578c1d44"
      },
      "execution_count": 83,
      "outputs": [
        {
          "output_type": "stream",
          "name": "stdout",
          "text": [
            "Error: File 'test_data.txt' not found.\n"
          ]
        }
      ]
    },
    {
      "cell_type": "markdown",
      "source": [
        "#Q 16. Demonstrate how to use memory profiling to check the memory usage of a small program ."
      ],
      "metadata": {
        "id": "_Fjf-ILsF9ng"
      }
    },
    {
      "cell_type": "code",
      "source": [
        "# 1. Install the required package\n",
        "%pip install memory-profiler\n",
        "\n",
        "# 2. Load the magic extension\n",
        "%load_ext memory_profiler\n",
        "\n",
        "# 3. Define the function with the @profile decorator\n",
        "# This decorator hooks the function into the profiler.\n",
        "@profile\n",
        "def create_and_delete():\n",
        "    a = list(range(1000000))\n",
        "    print(\"List 'a' created.\")\n",
        "\n",
        "    b = ['test'] * 1000000\n",
        "    print(\"List 'b' created.\")\n",
        "\n",
        "    # Reclaims memory used by 'a'\n",
        "    del a\n",
        "    print(\"List 'a' deleted.\")\n",
        "\n",
        "    return b"
      ],
      "metadata": {
        "colab": {
          "base_uri": "https://localhost:8080/"
        },
        "id": "_MTVmBEXUjfe",
        "outputId": "4fef9bda-dcb8-4f5b-eca6-ed3ada1207f3"
      },
      "execution_count": 85,
      "outputs": [
        {
          "output_type": "stream",
          "name": "stdout",
          "text": [
            "Requirement already satisfied: memory-profiler in /usr/local/lib/python3.12/dist-packages (0.61.0)\n",
            "Requirement already satisfied: psutil in /usr/local/lib/python3.12/dist-packages (from memory-profiler) (5.9.5)\n",
            "The memory_profiler extension is already loaded. To reload it, use:\n",
            "  %reload_ext memory_profiler\n"
          ]
        }
      ]
    },
    {
      "cell_type": "code",
      "metadata": {
        "colab": {
          "base_uri": "https://localhost:8080/"
        },
        "id": "ea2dcedb",
        "outputId": "a2204110-8f66-43e5-b577-e8b22e65564c"
      },
      "source": [
        "print(\"--- Running Memory Profiler (output below) ---\")\n",
        "%mprun -f create_and_delete create_and_delete()\n",
        "print(\"--- Profiler run complete ---\")"
      ],
      "execution_count": 86,
      "outputs": [
        {
          "output_type": "stream",
          "name": "stdout",
          "text": [
            "--- Running Memory Profiler (output below) ---\n",
            "ERROR: Could not find file /tmp/ipython-input-1913808612.py\n",
            "List 'a' created.\n",
            "List 'b' created.\n",
            "List 'a' deleted.\n",
            "\n",
            "--- Profiler run complete ---\n"
          ]
        }
      ]
    },
    {
      "cell_type": "markdown",
      "source": [
        "# Q 17 . Write a Python program to create and write a list of numbers to a file, one number per line."
      ],
      "metadata": {
        "id": "cJy7F-1IGYpS"
      }
    },
    {
      "cell_type": "code",
      "source": [
        "numbers = [10, 20, 30, 45, 55]\n",
        "file_name = 'numbers.txt'\n",
        "\n",
        "try:\n",
        "    with open(file_name, 'w') as f:\n",
        "        for num in numbers:\n",
        "            # Crucial step: convert to string and add newline\n",
        "            f.write(str(num) + '\\n')\n",
        "    print(f\"Successfully wrote {len(numbers)} numbers to '{file_name}'.\")\n",
        "except IOError as e:\n",
        "    print(f\"Error writing the list to file: {e}\")"
      ],
      "metadata": {
        "colab": {
          "base_uri": "https://localhost:8080/"
        },
        "id": "SKgeCutjG0Is",
        "outputId": "c7102dda-d8c6-4fdd-c1b8-678bb196f644"
      },
      "execution_count": 63,
      "outputs": [
        {
          "output_type": "stream",
          "name": "stdout",
          "text": [
            "Successfully wrote 5 numbers to 'numbers.txt'.\n"
          ]
        }
      ]
    },
    {
      "cell_type": "markdown",
      "source": [
        "# Q 18. How would you implement a basic logging setup that logs to a file with rotation after 1MB?"
      ],
      "metadata": {
        "id": "fJA_um7mG5V5"
      }
    },
    {
      "cell_type": "code",
      "source": [
        "import logging\n",
        "from logging.handlers import RotatingFileHandler\n",
        "\n",
        "log_file = 'rotating_app.log'\n",
        "\n",
        "# maxBytes=1024*1024 (1MB), backupCount=3 (keeps current + 3 archives)\n",
        "handler = RotatingFileHandler(log_file, maxBytes=1024*1024, backupCount=3)\n",
        "\n",
        "logging.basicConfig(level=logging.INFO,\n",
        "                    format='%(asctime)s - %(levelname)s - %(message)s',\n",
        "                    handlers=[handler])\n",
        "\n",
        "logging.info(\"Logging system initialized with file rotation capability.\")"
      ],
      "metadata": {
        "id": "yje2FpJpHFyA"
      },
      "execution_count": 64,
      "outputs": []
    },
    {
      "cell_type": "markdown",
      "source": [
        "# Q 19. Write a program that handles both IndexError and KeyError using a try-except block."
      ],
      "metadata": {
        "id": "wj8IwYFDHG7p"
      }
    },
    {
      "cell_type": "code",
      "source": [
        "data = [\n",
        "    {\"item\": \"apple\", \"price\": 1.0},\n",
        "    {\"item\": \"banana\"}\n",
        "]\n",
        "\n",
        "def access_data(index, key):\n",
        "    try:\n",
        "        # Check list index (potential IndexError)\n",
        "        item_dict = data[index]\n",
        "        # Check dictionary key (potential KeyError)\n",
        "        value = item_dict[key]\n",
        "        print(f\"Value at index {index}, key '{key}': {value}\")\n",
        "    except (IndexError, KeyError) as e:\n",
        "        # Handle both exceptions in one block\n",
        "        print(f\"Data Access Error: {e.__class__.__name__} occurred.\")\n",
        "\n",
        "access_data(0, \"price\")   # Success\n",
        "access_data(0, \"stock\")   # KeyError\n",
        "access_data(5, \"item\")    # IndexError"
      ],
      "metadata": {
        "colab": {
          "base_uri": "https://localhost:8080/"
        },
        "id": "zFJb6_FMHHK0",
        "outputId": "3da20d8a-70bd-4695-cff6-6a77c938b30e"
      },
      "execution_count": 65,
      "outputs": [
        {
          "output_type": "stream",
          "name": "stdout",
          "text": [
            "Value at index 0, key 'price': 1.0\n",
            "Data Access Error: KeyError occurred.\n",
            "Data Access Error: IndexError occurred.\n"
          ]
        }
      ]
    },
    {
      "cell_type": "markdown",
      "source": [
        "# Q 20 . How would you open a file and read its contents using a context manager in Python?"
      ],
      "metadata": {
        "id": "aHFNcWNQHHY8"
      }
    },
    {
      "cell_type": "code",
      "source": [
        "file_name = 'config.txt'\n",
        "try:\n",
        "    # The 'with' statement guarantees the file's __exit__ method (f.close()) is called\n",
        "    with open(file_name, 'r') as f:\n",
        "        content = f.read()\n",
        "        print(\"File successfully read using a context manager.\")\n",
        "        # print(content)\n",
        "except FileNotFoundError:\n",
        "    print(f\"File '{file_name}' not found.\")"
      ],
      "metadata": {
        "colab": {
          "base_uri": "https://localhost:8080/"
        },
        "id": "1qWJVsj7Hi1t",
        "outputId": "1a81a948-66f2-4060-d473-3754234f61c6"
      },
      "execution_count": 66,
      "outputs": [
        {
          "output_type": "stream",
          "name": "stdout",
          "text": [
            "File 'config.txt' not found.\n"
          ]
        }
      ]
    },
    {
      "cell_type": "markdown",
      "source": [
        "# Q 21. Write a Python program that reads a file and prints the number of occurrences of a specific word."
      ],
      "metadata": {
        "id": "rNX4kiGMHHfH"
      }
    },
    {
      "cell_type": "code",
      "source": [
        "import re\n",
        "\n",
        "def count_word(file_name, target_word):\n",
        "    count = 0\n",
        "    try:\n",
        "        with open(file_name, 'r') as f:\n",
        "            content = f.read()\n",
        "\n",
        "            # \\b matches a \"word boundary\" (space, punctuation, start/end of string)\n",
        "            # re.escape() handles cases where the target_word has special chars\n",
        "            # re.IGNORECASE makes the search case-insensitive\n",
        "            pattern = r'\\b' + re.escape(target_word) + r'\\b'\n",
        "\n",
        "            # findall() returns a list of all non-overlapping matches\n",
        "            matches = re.findall(pattern, content, re.IGNORECASE)\n",
        "            count = len(matches)\n",
        "\n",
        "        print(f\"The word '{target_word}' appears {count} times in the file.\")\n",
        "        return count\n",
        "\n",
        "    except FileNotFoundError:\n",
        "        print(f\"Error: File '{file_name}' not found.\")\n",
        "        return 0\n",
        "\n",
        "# --- Test ---\n",
        "# Create a dummy file\n",
        "with open(\"test_search.txt\", \"w\") as f:\n",
        "    f.write(\"Hello world.\\nThis is a test. Hello, WORLD!\")\n",
        "\n",
        "count_word(\"test_search.txt\", \"hello\")\n",
        "count_word(\"test_search.txt\", \"world\")\n",
        "count_word(\"test_search.txt\", \"test\")"
      ],
      "metadata": {
        "colab": {
          "base_uri": "https://localhost:8080/"
        },
        "id": "OAVgd3faHrxo",
        "outputId": "1060a976-e33e-4e24-9a2c-90b664f3ec30"
      },
      "execution_count": 79,
      "outputs": [
        {
          "output_type": "stream",
          "name": "stdout",
          "text": [
            "The word 'hello' appears 2 times in the file.\n",
            "The word 'world' appears 2 times in the file.\n",
            "The word 'test' appears 1 times in the file.\n"
          ]
        },
        {
          "output_type": "execute_result",
          "data": {
            "text/plain": [
              "1"
            ]
          },
          "metadata": {},
          "execution_count": 79
        }
      ]
    },
    {
      "cell_type": "markdown",
      "source": [
        "# Q 22. How can you check if a file is empty before attempting to read its contents?"
      ],
      "metadata": {
        "id": "D4qhxi6vHr_J"
      }
    },
    {
      "cell_type": "code",
      "source": [
        "import os\n",
        "\n",
        "file_to_check = 'status_report.log'\n",
        "\n",
        "try:\n",
        "    with open(file_to_check, 'r') as f:\n",
        "        # Read just one character\n",
        "        first_char = f.read(1)\n",
        "\n",
        "        if not first_char:\n",
        "            print(f\"File '{file_to_check}' exists, but is empty.\")\n",
        "        else:\n",
        "            print(f\"File '{file_to_check}' is not empty. Proceeding to read.\")\n",
        "            # If you need the full content, combine them\n",
        "            # full_content = first_char + f.read()\n",
        "\n",
        "except FileNotFoundError:\n",
        "    print(f\"File '{file_to_check}' does not exist.\")\n",
        "except PermissionError:\n",
        "    print(f\"Error: You do not have permission to access '{file_to_check}'.\")"
      ],
      "metadata": {
        "colab": {
          "base_uri": "https://localhost:8080/"
        },
        "id": "2r9s-155H8qQ",
        "outputId": "485c9a5b-78b7-478c-97f1-397dd6edd03a"
      },
      "execution_count": 84,
      "outputs": [
        {
          "output_type": "stream",
          "name": "stdout",
          "text": [
            "File 'status_report.log' does not exist.\n"
          ]
        }
      ]
    },
    {
      "cell_type": "markdown",
      "source": [
        "# Q 23. Write a Python program that writes to a log file when an error occurs during file handling."
      ],
      "metadata": {
        "id": "CynPa_psH_fi"
      }
    },
    {
      "cell_type": "code",
      "source": [
        "import logging\n",
        "\n",
        "logging.basicConfig(filename='file_handler.log', level=logging.ERROR,\n",
        "                    format='%(asctime)s - %(levelname)s - %(message)s')\n",
        "\n",
        "file_to_access = \"non_existent_settings.conf\"\n",
        "\n",
        "try:\n",
        "    with open(file_to_access, 'r') as f:\n",
        "        data = f.read()\n",
        "except FileNotFoundError:\n",
        "    error_message = f\"File error: '{file_to_access}' could not be found.\"\n",
        "    logging.error(error_message, exc_info=True) # Log the error with traceback\n",
        "    print(\"File handling error occurred. Logged details.\")"
      ],
      "metadata": {
        "colab": {
          "base_uri": "https://localhost:8080/"
        },
        "id": "KAi5YtgJIGdu",
        "outputId": "3196909c-9b59-4284-edf1-8755c4b97657"
      },
      "execution_count": 69,
      "outputs": [
        {
          "output_type": "stream",
          "name": "stderr",
          "text": [
            "ERROR:root:File error: 'non_existent_settings.conf' could not be found.\n",
            "Traceback (most recent call last):\n",
            "  File \"/tmp/ipython-input-424788953.py\", line 9, in <cell line: 0>\n",
            "    with open(file_to_access, 'r') as f:\n",
            "         ^^^^^^^^^^^^^^^^^^^^^^^^^\n",
            "FileNotFoundError: [Errno 2] No such file or directory: 'non_existent_settings.conf'\n"
          ]
        },
        {
          "output_type": "stream",
          "name": "stdout",
          "text": [
            "File handling error occurred. Logged details.\n"
          ]
        }
      ]
    },
    {
      "cell_type": "markdown",
      "source": [
        "---"
      ],
      "metadata": {
        "id": "x-YjEBXPIGla"
      }
    }
  ]
}